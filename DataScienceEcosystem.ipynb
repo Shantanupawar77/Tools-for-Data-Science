{
 "cells": [
  {
   "cell_type": "markdown",
   "metadata": {},
   "source": [
    "# Data Science Tools and Ecosystem\n",
    "In this notebook, Data Science Tools and Ecosystem are summarized.\n",
    "Some of the popular languages that Data Scientists use are:\n",
    "1. Python\n",
    "2. R\n",
    "3. SQL\n",
    "4. Scala\n",
    "5. Java\n",
    "6. C++\n",
    "7. Julia"
   ]
  },
  {
   "cell_type": "markdown",
   "metadata": {},
   "source": [
    "Some of the commonly used libraries used by Data Scientists include:\n",
    "In Python:\n",
    "1. **Pandas:** Effective for cleaning, manipulation, and analysis. Two dimensional table called data frame.\n",
    "2. **Numpy:** Applys mathematical functions to the arrays\n",
    "3. **Matplotlib:** For plots and graphs\n",
    "4. **Seaborn:** For heat maps. time series, violin plots.\n",
    "5. **Scikit-Learn:** Machine Learning, Regression, classification, clustering.\n",
    "6. **Keras:** Deep Learning Neural Networks.\n",
    "7. **TensorFlow:** Deep Learning, Production, and deployment."
   ]
  },
  {
   "cell_type": "markdown",
   "metadata": {},
   "source": [
    "|Data Science Tools|\n",
    "|--------------------|\n",
    "|Apache Spark|\n",
    "|Tensor Flow|\n",
    "|Power BI|\n",
    "|IBM SPSS|\n",
    "|Jupyter Notebook|"
   ]
  },
  {
   "cell_type": "markdown",
   "metadata": {},
   "source": [
    "### Below are few examples of evaluating arithmetic expressions in Python:\n",
    "1. Addition (+)\n",
    "2. Subtraction (-)\n",
    "3. Multiplication (*)\n",
    "4. Division (/)\n",
    "5. Modulus (%)\n",
    "6. Exponentiation (**)"
   ]
  },
  {
   "cell_type": "code",
   "execution_count": 2,
   "metadata": {
    "trusted": true
   },
   "outputs": [
    {
     "name": "stdout",
     "output_type": "stream",
     "text": [
      "17\n"
     ]
    }
   ],
   "source": [
    "x= (3*4)+5 \n",
    "#This is a simple arithmetic expression to multiply the add integers.\n",
    "print(x)"
   ]
  },
  {
   "cell_type": "code",
   "execution_count": 3,
   "metadata": {
    "trusted": true
   },
   "outputs": [
    {
     "name": "stdout",
     "output_type": "stream",
     "text": [
      "33.333333333333336\n"
     ]
    }
   ],
   "source": [
    "#This will convert 200 minutes to hours by dividing by 60\n",
    "y = 2000/60\n",
    "print(y)"
   ]
  },
  {
   "cell_type": "markdown",
   "metadata": {},
   "source": [
    "**Objectives:**\n",
    "+ Python\n",
    "+ R\n",
    "+ Scala\n",
    "+ Java Script\n",
    "+ SQL"
   ]
  },
  {
   "cell_type": "markdown",
   "metadata": {},
   "source": [
    "## Author\n",
    "Shantanu Pawar\n",
    "\n"
   ]
  },
  {
   "cell_type": "code",
   "execution_count": null,
   "metadata": {
    "trusted": true
   },
   "outputs": [],
   "source": []
  }
 ],
 "metadata": {
  "kernelspec": {
   "display_name": "Python (Pyodide)",
   "language": "python",
   "name": "python"
  },
  "language_info": {
   "codemirror_mode": {
    "name": "python",
    "version": 3
   },
   "file_extension": ".py",
   "mimetype": "text/x-python",
   "name": "python",
   "nbconvert_exporter": "python",
   "pygments_lexer": "ipython3",
   "version": "3.8"
  }
 },
 "nbformat": 4,
 "nbformat_minor": 4
}
