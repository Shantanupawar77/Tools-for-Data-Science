{
  "metadata": {
    "kernelspec": {
      "name": "python",
      "display_name": "Python (Pyodide)",
      "language": "python"
    },
    "language_info": {
      "codemirror_mode": {
        "name": "python",
        "version": 3
      },
      "file_extension": ".py",
      "mimetype": "text/x-python",
      "name": "python",
      "nbconvert_exporter": "python",
      "pygments_lexer": "ipython3",
      "version": "3.8"
    }
  },
  "nbformat_minor": 4,
  "nbformat": 4,
  "cells": [
    {
      "cell_type": "markdown",
      "source": "# Data Science Tools and Ecosystem\nIn this notebook, Data Science Tools and Ecosystem are summarized.\nSome of the popular languages that Data Scientists use are:\n1. Python\n2. R\n3. SQL\n4. Scala\n5. Java\n6. C++\n7. Julia",
      "metadata": {}
    },
    {
      "cell_type": "markdown",
      "source": "Some of the commonly used libraries used by Data Scientists include:\nIn Python:\n1. **Pandas:** Effective for cleaning, manipulation, and analysis. Two dimensional table called data frame.\n2. **Numpy:** Applys mathematical functions to the arrays\n3. **Matplotlib:** For plots and graphs\n4. **Seaborn:** For heat maps. time series, violin plots.\n5. **Scikit-Learn:** Machine Learning, Regression, classification, clustering.\n6. **Keras:** Deep Learning Neural Networks.\n7. **TensorFlow:** Deep Learning, Production, and deployment.",
      "metadata": {}
    },
    {
      "cell_type": "markdown",
      "source": "|Data Science Tools|\n|--------------------|\n|Apache Spark|\n|Tensor Flow|\n|Power BI|\n|IBM SPSS|\n|Jupyter Notebook|",
      "metadata": {}
    },
    {
      "cell_type": "markdown",
      "source": "### Below are few examples of evaluating arithmetic expressions in Python:\n1. Addition (+)\n2. Subtraction (-)\n3. Multiplication (*)\n4. Division (/)\n5. Modulus (%)\n6. Exponentiation (**)",
      "metadata": {}
    },
    {
      "cell_type": "code",
      "source": "x= (3*4)+5 \n#This is a simple arithmetic expression to multiply the add integers.\nprint(x)",
      "metadata": {
        "trusted": true
      },
      "outputs": [
        {
          "name": "stdout",
          "text": "17\n",
          "output_type": "stream"
        }
      ],
      "execution_count": 2
    },
    {
      "cell_type": "code",
      "source": "#This will convert 200 minutes to hours by dividing by 60\ny = 2000/60\nprint(y)",
      "metadata": {
        "trusted": true
      },
      "outputs": [
        {
          "name": "stdout",
          "text": "33.333333333333336\n",
          "output_type": "stream"
        }
      ],
      "execution_count": 3
    },
    {
      "cell_type": "markdown",
      "source": "**Objectives:**\n+ Python\n+ R\n+ Scala\n+ Java Script\n+ SQL",
      "metadata": {}
    },
    {
      "cell_type": "markdown",
      "source": "## Author\nFatima Hanan\n",
      "metadata": {}
    },
    {
      "cell_type": "code",
      "source": "",
      "metadata": {
        "trusted": true
      },
      "outputs": [],
      "execution_count": null
    }
  ]
}